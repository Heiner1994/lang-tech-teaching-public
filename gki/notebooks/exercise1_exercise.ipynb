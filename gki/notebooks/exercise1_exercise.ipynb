{
 "cells": [
  {
   "cell_type": "code",
   "execution_count": 1,
   "metadata": {
    "hide_input": true
   },
   "outputs": [
    {
     "data": {
      "text/html": [
       "<style>/* Style des gesamten Dokuments */\n",
       "#notebook-container {\n",
       "\tfont-family: \"NimbusMonL-ReguObli\";\n",
       "\tfont-size: 120%\n",
       "}\n",
       "\n",
       "/* Style für die Überschrift: Zentriert diese und stellt sie fett dar. */\n",
       ".headline {\n",
       "\ttext-align: center;\n",
       "\tfont-weight: bold;\n",
       "\tfont-size: 185.7%\n",
       "}\n",
       "\n",
       "/* Style für die Aufgabenbeschreibung. Z.B.: \"Übung zum Thema...\" */\n",
       ".description {\n",
       "\ttext-align: center;\n",
       "\tfont-size: 145.7%\n",
       "}\n",
       "\n",
       "/* Hebt das Abgabedatum fett und kursiv hervor */\n",
       "#submission {\n",
       "\tfont-weight: bold;\n",
       "}\n",
       "\n",
       "/* Style für das eigentliche Thema. Z.B.: \"Intelligenz\" */\n",
       "#topic {\n",
       "\tfont-style: italic;\n",
       "}\n",
       "\n",
       ".task_description {\n",
       "\n",
       "}\n",
       "\n",
       "/* Hebt die Aufgabennummerierung fett hervor. */\n",
       ".task {\n",
       "\tfont-style: normal;\n",
       "\tfont-weight: bold;\n",
       "}\n",
       "\n",
       ".points {\n",
       "\tfont-style: italic;\n",
       "}\n",
       "\n",
       "/* Style einer Code-Cell */\n",
       ".CodeMirror-code {\n",
       "\tbackground-color: #ededed\n",
       "}\n",
       "\n",
       "/* Style eines Kommentars im Code ändern. */\n",
       ".cm-s-ipython span.cm-comment {\n",
       "\n",
       "}\n",
       "\n",
       ".cm-s-ipython span.cm-atom {\n",
       "\n",
       "}\n",
       "\n",
       ".cm-s-ipython span.cm-number {\n",
       "\n",
       "}\n",
       "\n",
       "/* Style eines Python-Keywords ändern */\n",
       ".cm-s-ipython span.cm-keyword {\n",
       "\tcolor: #B000B0\n",
       "}\n",
       "\n",
       ".cm-s-ipython span.cm-def {\n",
       "\n",
       "}\n",
       "\n",
       "/* Style einer Python-Variable ändern */\n",
       ".cm-s-ipython span.cm-variable {\n",
       "\t\n",
       "}\n",
       "\n",
       "/* Style einer Property ändern */\n",
       ".cm-s-ipython span.cm-property {\n",
       "\t\n",
       "}\n",
       "\n",
       "/* Style eines Python-Operators ändern */\n",
       ".cm-s-ipython span.cm-operator {\n",
       "\t\n",
       "}\n",
       "\n",
       "/* Style eines Python-Strings ändern */\n",
       ".cm-s-ipython span.cm-string {\n",
       "\tcolor: brown;\n",
       "}\n",
       "\n",
       "/* Style einer eingebauten Funktion ändern (z.B. \"open\") */\n",
       ".cm-s-ipython span.cm-builtin {\n",
       "\t\n",
       "}\n",
       "\n",
       "/* Hebt hervor, welche Klammern zueinander passen */\n",
       ".cm-s-ipython .CodeMirror-matchingbracket {\n",
       "\t\n",
       "}\n",
       "\n",
       ".cm-s-ipython span.cm-variable-2 {\n",
       "\n",
       "}</style>"
      ],
      "text/plain": [
       "<IPython.core.display.HTML object>"
      ]
     },
     "execution_count": 1,
     "metadata": {},
     "output_type": "execute_result"
    }
   ],
   "source": [
    "# style the notebook\n",
    "from IPython.core.display import HTML\n",
    "\n",
    "HTML(\"<style>\" + open(\"style.css\").read() + \"</style>\")"
   ]
  },
  {
   "cell_type": "markdown",
   "metadata": {
    "name": "hallo"
   },
   "source": [
    "<div class=\"headline\">\n",
    "Grundlagen künstlicher Intelligenz\n",
    "<br><br>\n",
    "Sommersemester 2021\n",
    "</div>\n",
    "<br>\n",
    "<div class=\"description\">\n",
    "    Übung zum Thema <i id=\"topic\">\"Intelligenz\"</i>\n",
    "    <br><br>\n",
    "    Deadline Abgabe: <i #id=\"submission\">Freitag, 07.05.2021 (23:55 Uhr)</i>\n",
    "</div>"
   ]
  },
  {
   "cell_type": "markdown",
   "metadata": {},
   "source": [
    "## Präsenzübung"
   ]
  },
  {
   "cell_type": "markdown",
   "metadata": {
    "collapsed": true
   },
   "source": [
    "<div class=\"task_description\">\n",
    "    <i style=\"text-align:left;\" class=\"task\">\n",
    "        Task 1.1:\n",
    "        <span style=\"float:right;color:lightblue\">\n",
    "            (optional)\n",
    "        </span>\n",
    "    </i>\n",
    "\n",
    "Geben Sie ein Beispiel dafür, dass eine Gruppe von Individuen intelligenter agieren kann als es die Intelligenz der einzelnen Individuen vermuten lässt.\n",
    "</div>"
   ]
  },
  {
   "cell_type": "markdown",
   "metadata": {},
   "source": [
    "*Give an example of how a group of individuals can act more intelligent than the intelligence of each individual suggests.*"
   ]
  },
  {
   "cell_type": "markdown",
   "metadata": {
    "solution": "hidden",
    "solution_first": true
   },
   "source": [
    "---\n",
    "<div class=\"task_description\">\n",
    "    <i style=\"text-align:left;\" class=\"task\">\n",
    "        Task 1.2:\n",
    "        <span style=\"float:right;color:lightblue\">\n",
    "            (optional)\n",
    "        </span>\n",
    "    </i>\n",
    "    \n",
    "Treffen die folgenden Aussagen zu? Begründen Sie Ihre Antwort. \n",
    "\n",
    "* \"Natürlich können Computer nicht intelligent sein. Sie tun genau das, was ihnen ihre Programmierer befehlen.\"\n",
    "* \"Natürlich können Tiere nicht intelligent sein. Sie tun genau das, was ihnen ihre Gene befehlen.\"\n",
    "* \"Natürlich können weder Menschen, noch Tiere oder Computer intelligent sein: sie bestehen aus Atomen, die den Gesetzen der Physik unterworfen sind.\"\n",
    "</div>"
   ]
  },
  {
   "cell_type": "markdown",
   "metadata": {},
   "source": [
    "*Do the following statements apply? Justify your answer.<br>*\n",
    "* \"*Of course computers cannot be intelligent. They do exactly what their programmers command.*\"<br>\n",
    "* \"*Of course animals cannot be intelligent, They do exactly what their genes order.*\"<br>\n",
    "* \"*Of course neither humans, animals or computers can be intelligent: they consist of atoms that are subject to the laws of physics*\"<br>"
   ]
  },
  {
   "cell_type": "markdown",
   "metadata": {},
   "source": [
    "<div class=\"task_description\">\n",
    "    <i class=\"task\">Task 2.1:</i>\n",
    "\n",
    "Sehen Sie sich den Regular Expression Tester an.\n",
    "Dort sehen Sie Beispiele dafür, wie man reguläre Ausdrücke in Python nutzen kann. Gehen Sie die Beispiele Schritt\n",
    "für Schritt durch und fragen Sie Ihren Tutor, wenn Ihnen etwas nicht klar ist. <br> Versuchen Sie nun einzelne Anweisungen zu ändern. Was passiert beispielsweise wenn Sie ```[a-z]``` mit dem Wildcard-Symbol ```.``` ersetzen? Was passiert, wenn Sie ein Fragezeichen zum Ausdruck hinzufügen: ```[a-z]*?``` ?\n",
    "</div>"
   ]
  },
  {
   "cell_type": "markdown",
   "metadata": {},
   "source": [
    "*Take a look at the Regular Expression Tester. There you will find examples of how to use regular expressions in Python. Go through the examples step by step and ask your tutor if something is not clear to you. <br>Now try to change individual commands. For example: what happens when you replace ```[a-z]``` with the wildcard symbol ```.``` ? What happens when you add a question mark to the expression:* ```[a-z]*?``` ?"
   ]
  },
  {
   "cell_type": "markdown",
   "metadata": {},
   "source": [
    "#### Step 0: Modify the regular expression and the test string"
   ]
  },
  {
   "cell_type": "code",
   "execution_count": 2,
   "metadata": {},
   "outputs": [],
   "source": [
    "import re\n",
    "\n",
    "# Modify the regular expression\n",
    "expression = \"I feel [a-z]*?\"\n",
    "\n",
    "#Modify the test string\n",
    "test = \"I feel sad and I feel lonely.\""
   ]
  },
  {
   "cell_type": "markdown",
   "metadata": {},
   "source": [
    "#### Step 1: Check for match"
   ]
  },
  {
   "cell_type": "code",
   "execution_count": 3,
   "metadata": {},
   "outputs": [
    {
     "name": "stdout",
     "output_type": "stream",
     "text": [
      "String: I feel sad and I feel lonely.\n",
      "Expression: I feel [a-z]*?\n",
      "Treffer\n",
      "Does the expression match some part of the String starting at the beginning? True\n"
     ]
    }
   ],
   "source": [
    "print(\"String:\", test)\n",
    "print(\"Expression:\", expression)\n",
    "\n",
    "# First option: Just use the function. \n",
    "testMatch = re.match(expression, test)\n",
    "\n",
    "if testMatch: print(\"Treffer\")\n",
    "print(\"Does the expression match some part of the String starting at the beginning?\", bool(testMatch))"
   ]
  },
  {
   "cell_type": "markdown",
   "metadata": {},
   "source": [
    "#### Step 2: Get all partial matches"
   ]
  },
  {
   "cell_type": "code",
   "execution_count": 4,
   "metadata": {},
   "outputs": [
    {
     "name": "stdout",
     "output_type": "stream",
     "text": [
      "Match 0: I feel \n",
      "Match 1: I feel \n"
     ]
    }
   ],
   "source": [
    "# Second option: Compile a pattern and use its methods. E.g. \"findall\".\n",
    "pattern = re.compile(expression)\n",
    "matcher = pattern.findall(test)\n",
    "\n",
    "for idx, element in enumerate(matcher):\n",
    "    print('Match {}: {}'.format(str(idx), element))"
   ]
  },
  {
   "cell_type": "markdown",
   "metadata": {},
   "source": [
    "#### Step 3: Define different groups for your match"
   ]
  },
  {
   "cell_type": "code",
   "execution_count": 5,
   "metadata": {},
   "outputs": [
    {
     "name": "stdout",
     "output_type": "stream",
     "text": [
      "I feel sad and I feel lonely.\n",
      "\n",
      "phrase: I feel sad\n",
      "who: I\n",
      "feeling: sad\n",
      "\n",
      "phrase: I feel lonely\n",
      "who: I\n",
      "feeling: lonely\n",
      "\n"
     ]
    }
   ],
   "source": [
    "text = \"I feel sad and I feel lonely.\"\n",
    "print(text)\n",
    "print()\n",
    "\n",
    "for m in re.finditer(r\"(I) feel ([a-z]*)\", text):\n",
    "    print(\"phrase: \" + m.group(0))\n",
    "    print(\"who: \" + m.group(1))\n",
    "    print(\"feeling: \" + m.group(2))\n",
    "    print()"
   ]
  },
  {
   "cell_type": "markdown",
   "metadata": {},
   "source": [
    "#### Step 4: Modify the string"
   ]
  },
  {
   "cell_type": "code",
   "execution_count": 6,
   "metadata": {},
   "outputs": [
    {
     "name": "stdout",
     "output_type": "stream",
     "text": [
      "Your modified String: I feel good\n",
      "After the second modification: I feel good\n"
     ]
    }
   ],
   "source": [
    "matcher = re.compile(\"(I) feel ([a-z]*)\").search(test)\n",
    "\n",
    "test = \"I feel good\"\n",
    "\n",
    "#replace the second group of the first match with \"very happy\"\n",
    "toBeReplaced = str(matcher.group(2))\n",
    "replacement = \"very happy\"\n",
    "modifiedString = test.replace(toBeReplaced, replacement)\n",
    "print(\"Your modified String: \" + modifiedString)\n",
    "\n",
    "#You can also do string replacement directly without a matcher\n",
    "toBeReplaced2 = \"and I\"\n",
    "secondReplacement = \"because you\"\n",
    "secondModification = modifiedString.replace(toBeReplaced2, secondReplacement)\n",
    "print(\"After the second modification:\", secondModification)"
   ]
  },
  {
   "cell_type": "markdown",
   "metadata": {},
   "source": [
    "#### Step 5: Greedy vs. Lazy\n",
    "\n",
    "Regular Expressions können'greedy' und 'lazy' ausgeführt werden. Dieses beeinflusst stark, was gefunden wird. Matchen Sie die Wörter, die durch ```<begin>``` und ```<end>``` eingeschlossen werden. \n",
    "Wenn Sie 'greedy' verwenden, werden Sie nur einen Match finden, das erste ```<begin>``` und das **letzte** ```<end>```. Wenn Sie mit 'greedy' arbeiten, bedeutet ```[.*]```, dass der gesamte Text bis zu dessen Ende gelesen wird, und die Sequenz dann, beginnend vom Ende des Strings, zurückverfolgt wird, bis ein ```<end>``` gefunden wird.\n",
    "In anderen Worten sieht die Regular Expression nie das ```<end>``` hinter \"Duisburg\", sondern nur jenes hinter \"Hamburg\", welches in diesem Fall zu einem falschen Ergebnis führt."
   ]
  },
  {
   "cell_type": "markdown",
   "metadata": {},
   "source": [
    "*Regular expressions can be executed in a greedy and lazy fashion, which influences greatly what is found.\n",
    "Match the words enclosed by ```<begin>``` and ```<end>```.\n",
    "The greedy way finds only one match, the first ```<begin>``` and the the **last** ```<end>```. \n",
    "*When working greedily, the* ```[.*]``` *means that the full text is read until its end and then beginning from the end of the string the sequence is backtracked until a matching ```<end>``` is found. In other words, the regular expression never sees the ```<end>``` behind \"Duisburg\" but only behind \"Hamburg\", which leads in this case to an incorrect result.*"
   ]
  },
  {
   "cell_type": "code",
   "execution_count": 7,
   "metadata": {},
   "outputs": [
    {
     "name": "stdout",
     "output_type": "stream",
     "text": [
      "Original text: I am sad because I have to move from <begin>Duisburg<end> to rainy <begin>Hamburg<end> next week.\n",
      "Greedy match: <begin>Duisburg<end> to rainy <begin>Hamburg<end>\n",
      "Lazy match: <begin>Duisburg<end>\n",
      "Lazy match: <begin>Hamburg<end>\n"
     ]
    }
   ],
   "source": [
    "text = \"I am sad because I have to move from <begin>Duisburg<end> to rainy <begin>Hamburg<end> next week.\"\n",
    "print(\"Original text: \" + text)\n",
    "\n",
    "for m in re.finditer(r\"<begin>.*<end>\", text):\n",
    "    print(\"Greedy match: \" + m.group())\n",
    "    \n",
    "#The lazy way works as expected - note the additional question mark in the expression\n",
    "for m in re.finditer(r\"<begin>.*?<end>\", text):\n",
    "    print(\"Lazy match: \" + m.group())"
   ]
  },
  {
   "cell_type": "markdown",
   "metadata": {},
   "source": [
    "---\n",
    "<div class=\"task_description\">\n",
    "    <i class=\"task\">Task 2.2:</i> \n",
    "    \n",
    "Welche Wörter werden mit den folgenden regulären Ausdrücken gefunden? Geben Sie Beispiele.\n",
    "</div>"
   ]
  },
  {
   "cell_type": "markdown",
   "metadata": {},
   "source": [
    "*Which words are found with the following regular expressions? Give examples.*"
   ]
  },
  {
   "cell_type": "markdown",
   "metadata": {},
   "source": [
    "* ```l[a-z]+en```\n",
    "* ```([01]?\\d|2[0-3]):([0-5]\\d)```\n",
    "* ```^[a-zA-Z0-9_\\.+-]+@[a-zA-Z0-9_\\.~-]+\\.[a-zA-Z]{2,}$```"
   ]
  },
  {
   "cell_type": "code",
   "execution_count": 8,
   "metadata": {},
   "outputs": [
    {
     "name": "stdout",
     "output_type": "stream",
     "text": [
      "String: laufen\n",
      "Expression 1: l[a-z]+en\n",
      "Expression 2: ([01]?\\d|2[0-3]):([0-5]\\d)\n",
      "Expression 3: ^[a-zA-Z0-9_\\.+-]+@[a-zA-Z0-9_\\.~-]+\\.[a-zA-Z]{2,}$\n",
      "Does expression 1 match the string? True\n",
      "Does expression 2 match the string? False\n",
      "Does expression 3 match the string? False\n"
     ]
    }
   ],
   "source": [
    "import re\n",
    "#regular expressions\n",
    "expression1 = str(\"l[a-z]+en\")\n",
    "expression2 = str(\"([01]?\\d|2[0-3]):([0-5]\\d)\")\n",
    "expression3 = str(\"^[a-zA-Z0-9_\\.+-]+@[a-zA-Z0-9_\\.~-]+\\.[a-zA-Z]{2,}$\")\n",
    "#test string\n",
    "test = \"laufen\"\n",
    "\n",
    "print(\"String: \" + test)\n",
    "print(\"Expression 1: \" + expression1)\n",
    "print(\"Expression 2: \" + expression2)\n",
    "print(\"Expression 3: \" + expression3)\n",
    "\n",
    "matchFull1=matchFull2=matchFull3=False\n",
    "\n",
    "# testMatch1=re.match(expression1, test)\n",
    "# testMatch2=re.match(expression2, test)\n",
    "# testMatch3=re.match(expression3, test)\n",
    "\n",
    "testMatch1=re.search(expression1, test)\n",
    "testMatch2=re.search(expression2, test)\n",
    "testMatch3=re.search(expression3, test)\n",
    "\n",
    "if testMatch1: matchFull1=True\n",
    "print(\"Does expression 1 match the string? \" + str(matchFull1))\n",
    "if testMatch2: matchFull2=True\n",
    "print(\"Does expression 2 match the string? \" + str(matchFull2))\n",
    "if testMatch3: matchFull3=True\n",
    "print(\"Does expression 3 match the string? \" + str(matchFull3))"
   ]
  },
  {
   "cell_type": "markdown",
   "metadata": {},
   "source": [
    "---\n",
    "<div class=\"task_description\">\n",
    "    <i class=\"task\">Task 2.3:</i> \n",
    "    \n",
    "Sehen Sie sich nun die Klasse SimpleEliza an. Führen Sie das Programm aus und testen Sie, welche Dialoge möglich sind. Welche Schwächen hat das Programm? Wie können Sie es verbessern?\n",
    "</div>"
   ]
  },
  {
   "cell_type": "markdown",
   "metadata": {},
   "source": [
    "*Now look at the class SimpleEliza. Run the program and test which dialogs are possible. What are the weaknesses of the program? How can you improve it?*"
   ]
  },
  {
   "cell_type": "code",
   "execution_count": 34,
   "metadata": {},
   "outputs": [],
   "source": [
    "import random\n",
    "import re\n",
    "\n",
    "#\n",
    "\n",
    "class SimpleEliza:\n",
    "\n",
    "    # Eliza's 'intelligence'\n",
    "    def run(self):\n",
    "        welcome = \"Hallo. Worüber möchten Sie mit mir reden?\"\n",
    "        goodbye = \"Auf Wiedersehen\"\n",
    "        feelings = [\"ängstlich\", \"bedrückt\", \"einsam\", \"erfreut\", \"gestresst\", \"glücklich\", \"traurig\", \"unzufrieden\"]\n",
    "        dummy_sentences = [\n",
    "            \"Erzählen Sie mir mehr davon.\",\n",
    "            \"Interessant.\",\n",
    "            \"Können Sie das noch etwas genauer erklären?\",\n",
    "            \"Was denken Sie darüber?\"\n",
    "        ]\n",
    "\n",
    "        # Greet the user\n",
    "        print(welcome)\n",
    "\n",
    "        # Process user input. Processing continues until the user says goodbye. \n",
    "        s = \"\"\n",
    "        while s != goodbye:\n",
    "            # Read user input\n",
    "            s = input()\n",
    "            \n",
    "            if s == goodbye:\n",
    "                print(goodbye)\n",
    "                break\n",
    "                \n",
    "            answer = \"\"\n",
    "            \n",
    "            # Check for feelings\n",
    "            for feeling in feelings:\n",
    "                if feeling in s:\n",
    "                    # Found feeling -> generate answer\n",
    "                    answer = \"Wieso fühlen Sie sich \" + feeling + \"?\"\n",
    "                    # stop processing user input\n",
    "                    break\n",
    "            \n",
    "            # If no feeling has been detected, generate a dummy answer.\n",
    "            if len(answer) == 0:\n",
    "                # output random sentence\n",
    "                answer = random.choice(dummy_sentences)\n",
    "\n",
    "            print(answer)\n"
   ]
  },
  {
   "cell_type": "code",
   "execution_count": 35,
   "metadata": {},
   "outputs": [
    {
     "name": "stdout",
     "output_type": "stream",
     "text": [
      "Hallo. Worüber möchten Sie mit mir reden?\n",
      "Hi\n",
      "Was denken Sie darüber?\n"
     ]
    },
    {
     "ename": "KeyboardInterrupt",
     "evalue": "Interrupted by user",
     "output_type": "error",
     "traceback": [
      "\u001b[0;31m---------------------------------------------------------------------------\u001b[0m",
      "\u001b[0;31mKeyboardInterrupt\u001b[0m                         Traceback (most recent call last)",
      "\u001b[0;32m<ipython-input-35-32be07ebf941>\u001b[0m in \u001b[0;36m<module>\u001b[0;34m\u001b[0m\n\u001b[1;32m      1\u001b[0m \u001b[0mmy_eliza\u001b[0m \u001b[0;34m=\u001b[0m \u001b[0mSimpleEliza\u001b[0m\u001b[0;34m(\u001b[0m\u001b[0;34m)\u001b[0m\u001b[0;34m\u001b[0m\u001b[0;34m\u001b[0m\u001b[0m\n\u001b[0;32m----> 2\u001b[0;31m \u001b[0mmy_eliza\u001b[0m\u001b[0;34m.\u001b[0m\u001b[0mrun\u001b[0m\u001b[0;34m(\u001b[0m\u001b[0;34m)\u001b[0m\u001b[0;34m\u001b[0m\u001b[0;34m\u001b[0m\u001b[0m\n\u001b[0m",
      "\u001b[0;32m<ipython-input-34-875f0f943d18>\u001b[0m in \u001b[0;36mrun\u001b[0;34m(self)\u001b[0m\n\u001b[1;32m     25\u001b[0m         \u001b[0;32mwhile\u001b[0m \u001b[0ms\u001b[0m \u001b[0;34m!=\u001b[0m \u001b[0mgoodbye\u001b[0m\u001b[0;34m:\u001b[0m\u001b[0;34m\u001b[0m\u001b[0;34m\u001b[0m\u001b[0m\n\u001b[1;32m     26\u001b[0m             \u001b[0;31m# Read user input\u001b[0m\u001b[0;34m\u001b[0m\u001b[0;34m\u001b[0m\u001b[0;34m\u001b[0m\u001b[0m\n\u001b[0;32m---> 27\u001b[0;31m             \u001b[0ms\u001b[0m \u001b[0;34m=\u001b[0m \u001b[0minput\u001b[0m\u001b[0;34m(\u001b[0m\u001b[0;34m)\u001b[0m\u001b[0;34m\u001b[0m\u001b[0;34m\u001b[0m\u001b[0m\n\u001b[0m\u001b[1;32m     28\u001b[0m \u001b[0;34m\u001b[0m\u001b[0m\n\u001b[1;32m     29\u001b[0m             \u001b[0;32mif\u001b[0m \u001b[0ms\u001b[0m \u001b[0;34m==\u001b[0m \u001b[0mgoodbye\u001b[0m\u001b[0;34m:\u001b[0m\u001b[0;34m\u001b[0m\u001b[0;34m\u001b[0m\u001b[0m\n",
      "\u001b[0;32m~/opt/anaconda3/lib/python3.8/site-packages/ipykernel/kernelbase.py\u001b[0m in \u001b[0;36mraw_input\u001b[0;34m(self, prompt)\u001b[0m\n\u001b[1;32m    858\u001b[0m                 \u001b[0;34m\"raw_input was called, but this frontend does not support input requests.\"\u001b[0m\u001b[0;34m\u001b[0m\u001b[0;34m\u001b[0m\u001b[0m\n\u001b[1;32m    859\u001b[0m             )\n\u001b[0;32m--> 860\u001b[0;31m         return self._input_request(str(prompt),\n\u001b[0m\u001b[1;32m    861\u001b[0m             \u001b[0mself\u001b[0m\u001b[0;34m.\u001b[0m\u001b[0m_parent_ident\u001b[0m\u001b[0;34m,\u001b[0m\u001b[0;34m\u001b[0m\u001b[0;34m\u001b[0m\u001b[0m\n\u001b[1;32m    862\u001b[0m             \u001b[0mself\u001b[0m\u001b[0;34m.\u001b[0m\u001b[0m_parent_header\u001b[0m\u001b[0;34m,\u001b[0m\u001b[0;34m\u001b[0m\u001b[0;34m\u001b[0m\u001b[0m\n",
      "\u001b[0;32m~/opt/anaconda3/lib/python3.8/site-packages/ipykernel/kernelbase.py\u001b[0m in \u001b[0;36m_input_request\u001b[0;34m(self, prompt, ident, parent, password)\u001b[0m\n\u001b[1;32m    902\u001b[0m             \u001b[0;32mexcept\u001b[0m \u001b[0mKeyboardInterrupt\u001b[0m\u001b[0;34m:\u001b[0m\u001b[0;34m\u001b[0m\u001b[0;34m\u001b[0m\u001b[0m\n\u001b[1;32m    903\u001b[0m                 \u001b[0;31m# re-raise KeyboardInterrupt, to truncate traceback\u001b[0m\u001b[0;34m\u001b[0m\u001b[0;34m\u001b[0m\u001b[0;34m\u001b[0m\u001b[0m\n\u001b[0;32m--> 904\u001b[0;31m                 \u001b[0;32mraise\u001b[0m \u001b[0mKeyboardInterrupt\u001b[0m\u001b[0;34m(\u001b[0m\u001b[0;34m\"Interrupted by user\"\u001b[0m\u001b[0;34m)\u001b[0m \u001b[0;32mfrom\u001b[0m \u001b[0;32mNone\u001b[0m\u001b[0;34m\u001b[0m\u001b[0;34m\u001b[0m\u001b[0m\n\u001b[0m\u001b[1;32m    905\u001b[0m             \u001b[0;32mexcept\u001b[0m \u001b[0mException\u001b[0m \u001b[0;32mas\u001b[0m \u001b[0me\u001b[0m\u001b[0;34m:\u001b[0m\u001b[0;34m\u001b[0m\u001b[0;34m\u001b[0m\u001b[0m\n\u001b[1;32m    906\u001b[0m                 \u001b[0mself\u001b[0m\u001b[0;34m.\u001b[0m\u001b[0mlog\u001b[0m\u001b[0;34m.\u001b[0m\u001b[0mwarning\u001b[0m\u001b[0;34m(\u001b[0m\u001b[0;34m\"Invalid Message:\"\u001b[0m\u001b[0;34m,\u001b[0m \u001b[0mexc_info\u001b[0m\u001b[0;34m=\u001b[0m\u001b[0;32mTrue\u001b[0m\u001b[0;34m)\u001b[0m\u001b[0;34m\u001b[0m\u001b[0;34m\u001b[0m\u001b[0m\n",
      "\u001b[0;31mKeyboardInterrupt\u001b[0m: Interrupted by user"
     ]
    }
   ],
   "source": [
    "my_eliza = SimpleEliza()\n",
    "my_eliza.run()"
   ]
  },
  {
   "cell_type": "markdown",
   "metadata": {},
   "source": [
    "## Hausübung"
   ]
  },
  {
   "cell_type": "markdown",
   "metadata": {},
   "source": [
    "### Abgaberichtlinien\n",
    "* Jede Hausübung bringt maximal 10 Hausaufgabenpunkte. 10 Hausaufgabenpunkte entsprechen einem Klausurpunkt.\n",
    "* Im Laufe des Semesters kann es zusätzliche Bonuspunkte (= 1 Klausurpunkt) für Hausübungen geben, in Form von z.B. Challenges, weitere Informationen folgen bei den betreffenden Hausübungen.\n",
    "* Die Abgabe erfolgt in Zweier- oder Dreierteams. **Einzelabgaben werden nicht gewertet**. Die Teammitglieder müssen nicht in derselben Übungsgruppe sein. Bei Problemen bzw. Einzelfällen hinsichtlich dieser Richtlinie kontaktieren Sie einen Tutor.\n",
    "* In der Abgabe müssen alle Teammitglieder mit **Namen und Matrikelnummern gut sichtbar** genannt werden.\n",
    "* Es muss immer nur **ein Teammitglied der Gruppe abgeben**. Sollten aus Versehen mehrere Abgaben der selben Übung erfolgen, kommunizieren Sie dies **zeitnah** an einen Tutor, ansonsten wird die erste korrigierte Abgabe gewertet.\n",
    "* Die Abgabe soll als Jupyter-Notebook erfolgen (.ipynb). Abgaben in einem **anderen Format werden nicht gewertet**. Bei Problemen hinsichtlich dieser Richtlinie kontaktieren Sie einen Tutor.\n",
    "* Es ist nicht nötig, den Präsenzübungsteil in der Abgabe mit abzugeben. Es wird lediglich der Hausübungsteil gewertet.\n",
    "* Wenn Bilder mit abgegeben werden, ist es erlaubt, diese zusammen mit dem Notebook als zip-Ordner abzugeben. Diese sollten folgendermaßen eingefügt werden: ``![Beispiel1](Beispielbild1.PNG)`` (ohne Apostrophe in einer Markdown-Cell)."
   ]
  },
  {
   "cell_type": "markdown",
   "metadata": {},
   "source": [
    "### *Submission guidelines*\n",
    "* *You can reach up to 10 homework points for every homework submission. 10 homework points correspond to one exam point.*\n",
    "* *In the course of the semester, there will be extra bonus points (where each bonus point equals to one exam point) for the homeworks. These will be given in the form of e.g. challenges inside the homeworks. More information will be given in the corresponding homeworks.*\n",
    "* *The submission has to be done by a team of two to three people. **Individual submissions will not be graded**. The team members do not have to attend the same exercise group. If there are any problems regarding this guideline, please reach out to a tutor.*\n",
    "* *Please state the **name and matriculation number of all team members** in every submission **clearly**.*\n",
    "* *Only **one team member should submit** the homework. If more than one version of the same homework is submitted by accident (submitted by more than one group member), please reach out to a tutor **as soon as possible**. Otherwise, the first submitted homework will be graded.*\n",
    "* *The submission must be in a Jupyter Notebook format (.ipynb). Submissions in **other formats will not be graded**. If there are any problems regarding this guideline, please reach out to a tutor.*\n",
    "* *It is not necessary to also submit the part of the exercise discussed by the tutor, please only submit the homework part.*\n",
    "* *If pictures need to be submitted, it is allowed to hand them in in a zip folder, together with the notebook. They should be added to the notebook like this: ``![example1](examplepicture1.PNG)`` (without apostrophs in a Markdown-Cell).*"
   ]
  },
  {
   "cell_type": "markdown",
   "metadata": {},
   "source": [
    "<div class=\"task_description\">\n",
    "    <i class=\"task\">Homework 1.1</i> - <i class=\"points\">4 Punkte</i> <br><br>\n",
    "\n",
    "\n",
    "In der Pflichtlektüre Russel & Norvig, Kapitel 26.3, werden verschiedene ethische Probleme diskutiert, die durch die Weiterentwicklung von künstlicher Intelligenz auftreten können. Seit einigen Jahren basiert fast alle neu entwickelte Software in der KI auf maschinellen Lernverfahren, die auf Big Data trainiert werden. Nennen Sie zwei weitere ethische Probleme, die dadurch entstehen könnten. Begründen Sie Ihre Antwort und nennen Sie mögliche Lösungen.\n",
    "</div>"
   ]
  },
  {
   "cell_type": "markdown",
   "metadata": {},
   "source": [
    "GKI\n",
    "\n",
    "Heiner Ploog, 3083177\n",
    "Anke Beermann 3083624\n"
   ]
  },
  {
   "cell_type": "markdown",
   "metadata": {},
   "source": [
    "1) Profit der großen Konzerne\n",
    "Die Unternehmen, welche am meisten von AI profitieren sind solche, welche am meisten Daten zur Verfügung stehen. Somit entsteht ein Nachteil für kleinere, mittelständische Unternehmen oder auch Start-Ups, um sich im wirtschaftlichen Wettbewerb gegen Großkonzerne durchzusetzen. Als Beispiel zu nennen sind Google, Amazon, Facebook und Apple (GAFA), welche höhere Wirtschaftsleistungen als manche Staaten realisieren. Lösungen könnten lediglich auf gesetzlicher Ebene getroffen werden. Gesetze zur Erschwerung der Übernahme kleinerer Unternehmen oder neuer Technologien könnten die wirtschaftliche Macht dieser Unternehmen eingrenzen. \n",
    "\n",
    "2) Bilderkennung auf Basis von Big Data\n",
    "Heutzutage ist es möglich auf Basis von visuellen Daten aus Videomaterial Personen mit Hilfe von AI nachzustellen. Mit Hilfe dieser Videos könnte negativer Einfluss auf die Gesellschaft ausgeübt werden. In Kombination mit gezieltem Targeting auf Basis von Nutzerdaten könnten Personen, welche ohnehin schon anfällig für „Fake-News“ sind,in  ihrer politischen sozialen Einstellung und Meinung gegenüber Personen stark beeinflusst werden. Im Endeffekt könnte das Vertrauen in Nachrichten noch stärker einbrechen als ohnehin schon. Lösungen könnten Technologien zur Identifizierung von gefälschten Videos sein, welche auf Basis von Algorithmen Vergleiche mit den realen Personen durchführen. Könnten, um gefälschtes Bildmaterial zu identifizieren. Hier könnten nicht nur das Aussehen abgeglichen werden, sondern auch typische Bewegungen, Sprache oder exakte Details der Körper. \n"
   ]
  },
  {
   "cell_type": "markdown",
   "metadata": {},
   "source": [
    "*The mandatory reading, chapter 26.3, various ethical issues are discussed which may arise from the advancement of artificial intelligence. For some years, all newly developed software programs in AI have been based on machine learning techniques that are trained on big data. Name two other ethical issues that may arise thereby. Justify your answer and name possible solutions.*"
   ]
  },
  {
   "cell_type": "markdown",
   "metadata": {},
   "source": [
    "<div class=\"task_description\">\n",
    "    <i class=\"task\">Homework 1.2</i> - <i class=\"points\">5 Punkte</i> <br>\n",
    "    \n",
    "Erweitern Sie den Beispielcode einer simplen Eliza Implementierung, um die unten beschriebenen Fähigkeiten zu ermöglichen. Verwenden Sie dabei reguläre Ausdrücke (regular expressions). Kommentieren Sie ihren Code!\n",
    "\n",
    "* Eliza sollte in der Lage sein, auf die Nennung von Familienmitgliedern (\"Vater\", \"Schwester\", etc) zu reagieren.\n",
    "* Eliza sollte Negationen in den Aussagen erkennen können.\n",
    "* Eliza sollte die Konjunktionen \"und\" und \"oder\" unterscheiden und unterschiedlich reagieren können.\n",
    "* Eine Fähigkeit Ihrer Wahl.\n",
    "</div>"
   ]
  },
  {
   "cell_type": "code",
   "execution_count": null,
   "metadata": {},
   "outputs": [],
   "source": [
    "import random\n",
    "import re\n",
    "\n",
    "# Familienmitglieder\n",
    "\n",
    "#text = \"Ich habe zwei Mütter\"\n",
    "#siblings = \"Br.der|Schwestern?|Omas?|Opas?|Mama|Papa|M.tter|V.ter\"\n",
    "#matcher = re.findall(siblings, text, flags=re.IGNORECASE)\n",
    "#answer = matcher.group(0)  \n",
    "#answer = print(\"Krass\",matcher[0],\".\")\n",
    "\n",
    "class SimpleEliza:\n",
    "\n",
    "    # Eliza's 'intelligence'\n",
    "    def run(self):\n",
    "        welcome = \"Hallo. Worüber möchten Sie mit mir reden?\"\n",
    "        goodbye = \"Auf Wiedersehen\"\n",
    "        feelings = [\"ängstlich\", \"bedrückt\", \"einsam\", \"erfreut\", \"gestresst\", \"glücklich\", \"traurig\", \"unzufrieden\"]\n",
    "        dummy_sentences = [\n",
    "            \"Erzählen Sie mir mehr davon.\",\n",
    "            \"Interessant.\",\n",
    "            \"Können Sie das noch etwas genauer erklären?\",\n",
    "            \"Was denken Sie darüber?\"\n",
    "        ]\n",
    "\n",
    "        def matcher_familie(s):\n",
    "            siblings = \"Br.der|Schwestern?|Omas?|Opas?|Mama|Papa|M.tter|V.ter\"\n",
    "            matcher_familie = re.findall(siblings, s, flags=re.IGNORECASE)\n",
    "            if len(matcher_familie) > 0:\n",
    "                answer = \"\"\n",
    "                for matcher in matcher_familie:\n",
    "                    answer+= matcher +\", \"\n",
    "                    answer+= \"interessant.\"\n",
    "                    #print(answer)\n",
    "                answer +=\". Klingt gut.\"\n",
    "                return answer\n",
    "            \n",
    "        def matcher_connection(s):\n",
    "            #connection = re.compile(\"[a-z]* ([^rfmh]und|oder) [a-z]*\").search(s)\n",
    "            connection = \"([a-z]*)([^HRFMrfmh]und|oder)([a-z]*)\"\n",
    "            matcher_connection = re.search(connection, s, flags=re.IGNORECASE)\n",
    "            if len(matcher_connection)>0:\n",
    "                answer = matcher_connection[0]\n",
    "                return answer\n",
    "                                \n",
    "        def matcher_neg(s):\n",
    "            negativ = \"keine?n?|nichts?|nein|nie|niemals\"\n",
    "            matcher_neg = re.findall(negativ, s, flags=re.IGNORECASE)\n",
    "            if len(matcher_neg)>0:\n",
    "                answer = \"Hätte ich nicht gedacht.\"\n",
    "                return answer\n",
    "\n",
    "        print(welcome)\n",
    "        \n",
    "        # Process user input. Processing continues until the user says goodbye. \n",
    "        s = \"\"\n",
    "        \n",
    "        while s != goodbye:\n",
    "            # Read user input\n",
    "            s = input()\n",
    "\n",
    "            if s == goodbye:\n",
    "                print(goodbye)\n",
    "                break\n",
    "                \n",
    "            answer = \"\"\n",
    "            \n",
    "            # Check for feelings\n",
    "            #for feeling in feelings:\n",
    "            #    if feeling in s:\n",
    "            #        # Found feeling -> generate answer\n",
    "            #        answer = \"Wieso fühlen Sie sich \" + feeling + \"?\"\n",
    "            #        # stop processing user input\n",
    "            #        break\n",
    "            \n",
    "            if matcher_familie(s):\n",
    "                answer = (matcher_familie(s))\n",
    "            \n",
    "            if matcher_neg(s):\n",
    "                answer = (matcher_neg(s))\n",
    "            \n",
    "            if matcher_connection(s):\n",
    "                answer = (matcher_connection(s))\n",
    "\n",
    "            # If no feeling has been detected, generate a dummy answer.\n",
    "            if len(answer) == 0:\n",
    "                # output random sentence\n",
    "                answer = random.choice(dummy_sentences)\n",
    "\n",
    "            print(answer)"
   ]
  },
  {
   "cell_type": "code",
   "execution_count": null,
   "metadata": {},
   "outputs": [],
   "source": [
    "my_eliza = SimpleEliza()\n",
    "my_eliza.run()"
   ]
  },
  {
   "cell_type": "code",
   "execution_count": 34,
   "metadata": {},
   "outputs": [
    {
     "ename": "AttributeError",
     "evalue": "'NoneType' object has no attribute 'group'",
     "output_type": "error",
     "traceback": [
      "\u001b[0;31m---------------------------------------------------------------------------\u001b[0m",
      "\u001b[0;31mAttributeError\u001b[0m                            Traceback (most recent call last)",
      "\u001b[0;32m<ipython-input-34-320533521837>\u001b[0m in \u001b[0;36m<module>\u001b[0;34m\u001b[0m\n\u001b[1;32m      3\u001b[0m \u001b[0mtext\u001b[0m \u001b[0;34m=\u001b[0m \u001b[0;34m\"Hunde und Katzen\"\u001b[0m\u001b[0;34m\u001b[0m\u001b[0;34m\u001b[0m\u001b[0m\n\u001b[1;32m      4\u001b[0m \u001b[0mconnection\u001b[0m \u001b[0;34m=\u001b[0m \u001b[0mre\u001b[0m\u001b[0;34m.\u001b[0m\u001b[0mcompile\u001b[0m\u001b[0;34m(\u001b[0m\u001b[0;34m\"([A-Z])([^HRMFrfmh]und|oder)([A-Za-z0-9_])\"\u001b[0m\u001b[0;34m)\u001b[0m\u001b[0;34m.\u001b[0m\u001b[0msearch\u001b[0m\u001b[0;34m(\u001b[0m\u001b[0mtext\u001b[0m\u001b[0;34m)\u001b[0m\u001b[0;34m\u001b[0m\u001b[0;34m\u001b[0m\u001b[0m\n\u001b[0;32m----> 5\u001b[0;31m \u001b[0mword\u001b[0m \u001b[0;34m=\u001b[0m \u001b[0mconnection\u001b[0m\u001b[0;34m.\u001b[0m\u001b[0mgroup\u001b[0m\u001b[0;34m(\u001b[0m\u001b[0;36m2\u001b[0m\u001b[0;34m)\u001b[0m\u001b[0;34m\u001b[0m\u001b[0;34m\u001b[0m\u001b[0m\n\u001b[0m\u001b[1;32m      6\u001b[0m \u001b[0mprint\u001b[0m\u001b[0;34m(\u001b[0m\u001b[0mword\u001b[0m\u001b[0;34m)\u001b[0m\u001b[0;34m\u001b[0m\u001b[0;34m\u001b[0m\u001b[0m\n\u001b[1;32m      7\u001b[0m \u001b[0;34m\u001b[0m\u001b[0m\n",
      "\u001b[0;31mAttributeError\u001b[0m: 'NoneType' object has no attribute 'group'"
     ]
    }
   ],
   "source": [
    "#Und/Oder\n",
    "import re\n",
    "text = \"Hunde und Katzen\"\n",
    "connection = re.compile(\"([A-Z])([^HRMFrfmh]und|oder)([A-Za-z0-9_])\").search(text)\n",
    "word = connection.group(2)\n",
    "print(word)\n",
    "\n",
    "if word == \"oder\":\n",
    "    answer=\"cool\"\n",
    "if word ==\" und\":\n",
    "    answer=\"Krass\"\n",
    "print(answer)"
   ]
  },
  {
   "cell_type": "code",
   "execution_count": 22,
   "metadata": {},
   "outputs": [
    {
     "ename": "AttributeError",
     "evalue": "'NoneType' object has no attribute 'group'",
     "output_type": "error",
     "traceback": [
      "\u001b[0;31m---------------------------------------------------------------------------\u001b[0m",
      "\u001b[0;31mAttributeError\u001b[0m                            Traceback (most recent call last)",
      "\u001b[0;32m<ipython-input-22-41aba0f1ee71>\u001b[0m in \u001b[0;36m<module>\u001b[0;34m\u001b[0m\n\u001b[1;32m      6\u001b[0m \u001b[0;34m\u001b[0m\u001b[0m\n\u001b[1;32m      7\u001b[0m \u001b[0;31m#replace the second group of the first match with \"very happy\"\u001b[0m\u001b[0;34m\u001b[0m\u001b[0;34m\u001b[0m\u001b[0;34m\u001b[0m\u001b[0m\n\u001b[0;32m----> 8\u001b[0;31m \u001b[0mtoBeReplaced\u001b[0m \u001b[0;34m=\u001b[0m \u001b[0mstr\u001b[0m\u001b[0;34m(\u001b[0m\u001b[0mmatcher\u001b[0m\u001b[0;34m.\u001b[0m\u001b[0mgroup\u001b[0m\u001b[0;34m(\u001b[0m\u001b[0;36m2\u001b[0m\u001b[0;34m)\u001b[0m\u001b[0;34m)\u001b[0m\u001b[0;34m\u001b[0m\u001b[0;34m\u001b[0m\u001b[0m\n\u001b[0m\u001b[1;32m      9\u001b[0m \u001b[0mreplacement\u001b[0m \u001b[0;34m=\u001b[0m \u001b[0;34m\"very happy\"\u001b[0m\u001b[0;34m\u001b[0m\u001b[0;34m\u001b[0m\u001b[0m\n\u001b[1;32m     10\u001b[0m \u001b[0mmodifiedString\u001b[0m \u001b[0;34m=\u001b[0m \u001b[0mtest\u001b[0m\u001b[0;34m.\u001b[0m\u001b[0mreplace\u001b[0m\u001b[0;34m(\u001b[0m\u001b[0mtoBeReplaced\u001b[0m\u001b[0;34m,\u001b[0m \u001b[0mreplacement\u001b[0m\u001b[0;34m)\u001b[0m\u001b[0;34m\u001b[0m\u001b[0;34m\u001b[0m\u001b[0m\n",
      "\u001b[0;31mAttributeError\u001b[0m: 'NoneType' object has no attribute 'group'"
     ]
    }
   ],
   "source": [
    "test = \"I feel good\"\n",
    "\n",
    "matcher = re.compile(\"(I) feel ([a-z]*)\").search(test)\n",
    "\n",
    "\n",
    "\n",
    "#replace the second group of the first match with \"very happy\"\n",
    "toBeReplaced = str(matcher.group(2))\n",
    "replacement = \"very happy\"\n",
    "modifiedString = test.replace(toBeReplaced, replacement)\n",
    "print(\"Your modified String: \" + modifiedString)\n",
    "\n",
    "#You can also do string replacement directly without a matcher\n",
    "toBeReplaced2 = \"and I\"\n",
    "secondReplacement = \"because you\"\n",
    "secondModification = modifiedString.replace(toBeReplaced2, secondReplacement)\n",
    "print(\"After the second modification:\", secondModification)"
   ]
  },
  {
   "cell_type": "code",
   "execution_count": 23,
   "metadata": {},
   "outputs": [
    {
     "name": "stdout",
     "output_type": "stream",
     "text": [
      "Krass Mütter .\n"
     ]
    }
   ],
   "source": [
    "s=\"Väter\"\n",
    "\n",
    "def matcher_familie(s):\n",
    "    siblings = \"Br.der|Schwestern?|Omas?|Opas?|Mama|Papa|M.tter|V.ter\"\n",
    "    matcher_familie = re.findall(siblings, s, flags=re.IGNORECASE)\n",
    "    answer = print(\"Krass\",matcher[0],\".\")\n",
    "    return answer\n",
    "\n",
    "if matcher_familie(s)==True:\n",
    "    print (matcher_familie(s))"
   ]
  },
  {
   "cell_type": "markdown",
   "metadata": {},
   "source": [
    "*Extend the sample code of a simple Eliza implementation to enable the capabilities described below. Use regular expressions. Comment your code!*\n",
    "\n",
    "* *Eliza should be able to respond to family members (\"father\", \"sister\", etc).*\n",
    "* *Eliza should be able to recognize negations in the statements.*\n",
    "* *Eliza should be able to distinguish the conjunctions \"and\" and \"or\" and react differently.*\n",
    "* *An ability of your choice.*\n"
   ]
  },
  {
   "cell_type": "markdown",
   "metadata": {},
   "source": [
    "<div class=\"task_description\">\n",
    "    <i class=\"task\">Homework 1.3</i> - <i class=\"points\">1 Punkt</i> <br>\n",
    "\n",
    "Beschreiben Sie, inwiefern Ihre Version von SimpleEliza die Basisversion verbessert.\n",
    "</div>"
   ]
  },
  {
   "cell_type": "markdown",
   "metadata": {},
   "source": [
    "*Describe how your version of SimpleEliza improves the basic version.*"
   ]
  }
 ],
 "metadata": {
  "kernelspec": {
   "display_name": "Python 3",
   "language": "python",
   "name": "python3"
  },
  "varInspector": {
   "cols": {
    "lenName": 16,
    "lenType": 16,
    "lenVar": 40
   },
   "kernels_config": {
    "python": {
     "delete_cmd_postfix": "",
     "delete_cmd_prefix": "del ",
     "library": "var_list.py",
     "varRefreshCmd": "print(var_dic_list())"
    },
    "r": {
     "delete_cmd_postfix": ") ",
     "delete_cmd_prefix": "rm(",
     "library": "var_list.r",
     "varRefreshCmd": "cat(var_dic_list()) "
    }
   },
   "types_to_exclude": [
    "module",
    "function",
    "builtin_function_or_method",
    "instance",
    "_Feature"
   ],
   "window_display": false
  }
 },
 "nbformat": 4,
 "nbformat_minor": 2
}
